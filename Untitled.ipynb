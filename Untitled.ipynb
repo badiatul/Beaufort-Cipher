{
 "cells": [
  {
   "cell_type": "code",
   "execution_count": 2,
   "id": "fa581369-984c-4ae0-82b9-1c531a5faf2b",
   "metadata": {},
   "outputs": [],
   "source": [
    "def beaufort_encrypt(plaintext, key):\n",
    "    plaintext = plaintext.upper()\n",
    "    key = key.upper()\n",
    "    ciphertext = \"\"\n",
    "    key_index = 0\n",
    "\n",
    "    for char in plaintext:\n",
    "        if char.isalpha():\n",
    "            p = ord(char) - ord('A')\n",
    "            k = ord(key[key_index % len(key)]) - ord('A')\n",
    "            c = (k - p + 26) % 26\n",
    "            ciphertext += chr(c + ord('A'))\n",
    "            key_index += 1\n",
    "        else:\n",
    "            ciphertext += char\n",
    "    return ciphertext\n",
    "\n",
    "def beaufort_decrypt(ciphertext, key):\n",
    "    # Beaufort Cipher is symmetric: encryption and decryption are the same\n",
    "    return beaufort_encrypt(ciphertext, key)\n"
   ]
  },
  {
   "cell_type": "code",
   "execution_count": 4,
   "id": "8ad65e5f-fc59-4ddd-805b-d9cdd7c5dc67",
   "metadata": {},
   "outputs": [
    {
     "name": "stdout",
     "output_type": "stream",
     "text": [
      "Ciphertext: XSFZKUBHI FGZOTESZOO\n",
      "Decrypted: SIMBIOSIS MUTUALISME\n"
     ]
    }
   ],
   "source": [
    "plain = \"SIMBIOSIS MUTUALISME\"\n",
    "key = \"PARASIT\"\n",
    "cipher = beaufort_encrypt(plain, key)\n",
    "print(\"Ciphertext:\", cipher)\n",
    "\n",
    "decrypted = beaufort_decrypt(cipher, key)\n",
    "print(\"Decrypted:\", decrypted)\n"
   ]
  }
 ],
 "metadata": {
  "kernelspec": {
   "display_name": "Python 3 (ipykernel)",
   "language": "python",
   "name": "python3"
  },
  "language_info": {
   "codemirror_mode": {
    "name": "ipython",
    "version": 3
   },
   "file_extension": ".py",
   "mimetype": "text/x-python",
   "name": "python",
   "nbconvert_exporter": "python",
   "pygments_lexer": "ipython3",
   "version": "3.12.4"
  }
 },
 "nbformat": 4,
 "nbformat_minor": 5
}
